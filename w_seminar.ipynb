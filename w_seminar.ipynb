{
 "nbformat": 4,
 "nbformat_minor": 0,
 "metadata": {
  "colab": {
   "provenance": []
  },
  "kernelspec": {
   "name": "python3",
   "display_name": "Python 3"
  },
  "language_info": {
   "name": "python"
  },
  "accelerator": "GPU"
 },
 "cells": [
  {
   "cell_type": "code",
   "execution_count": 1,
   "metadata": {
    "colab": {
     "base_uri": "https://localhost:8080/"
    },
    "id": "C3QlrNWXXAx1",
    "outputId": "9d9a6bbd-fcbf-4866-a034-f701846557f8",
    "pycharm": {
     "name": "#%%\n"
    }
   },
   "outputs": [
    {
     "output_type": "stream",
     "name": "stdout",
     "text": [
      "/content\n",
      "fatal: destination path 'w_seminar' already exists and is not an empty directory.\n",
      "/content/w_seminar\n"
     ]
    }
   ],
   "source": [
    "%cd /content\n",
    "!git clone https://github.com/theNoobSkill/w_seminar.git\n",
    "%cd /content/w_seminar"
   ]
  },
  {
   "cell_type": "code",
   "source": [
    "from matplotlib import pyplot as plt\n",
    "\n",
    "import torch\n",
    "from torch.nn import Conv2d, MaxPool2d, ReLU, Linear, Sequential, Flatten\n",
    "from torch.utils.data import DataLoader, random_split\n",
    "\n",
    "from torchvision.datasets import ImageFolder\n",
    "from torchvision.transforms import Compose, Resize, CenterCrop, ToTensor, Normalize\n",
    "\n",
    "from main import fit, compute_accuracy"
   ],
   "metadata": {
    "id": "j2ZMrTRmbkW7",
    "pycharm": {
     "name": "#%%\n"
    }
   },
   "execution_count": 2,
   "outputs": []
  },
  {
   "cell_type": "code",
   "source": [
    "# Set the device.\n",
    "device = torch.device('cuda' if torch.cuda.is_available() else 'cpu')"
   ],
   "metadata": {
    "id": "ShmTFwxYb4CG",
    "pycharm": {
     "name": "#%%\n"
    }
   },
   "execution_count": 3,
   "outputs": []
  },
  {
   "cell_type": "code",
   "source": [
    "# Define the transforms (standard transforms for ImageNet).\n",
    "# We resize the images to have the smaller side equal to 256 and then\n",
    "# take a center crop of size 224. The images are also converted to\n",
    "# PyTorch tensors and normalized with the mean and standard deviation\n",
    "# of the ImageNet dataset.\n",
    "# The target is converted to a float tensor.\n",
    "transform = Compose([\n",
    "    Resize(256),\n",
    "    CenterCrop(224),\n",
    "    ToTensor(),\n",
    "    Normalize(mean=[0.485, 0.456, 0.406], std=[0.229, 0.224, 0.225]),\n",
    "])\n",
    "target_transform = lambda x: torch.tensor(x, dtype=torch.float)"
   ],
   "metadata": {
    "id": "6FhdTkr3b6md",
    "pycharm": {
     "name": "#%%\n"
    }
   },
   "execution_count": 4,
   "outputs": []
  },
  {
   "cell_type": "code",
   "source": [
    "# Create a the dataset and split the validation set from the training set.\n",
    "train_val_set = ImageFolder(root='data/train', transform=transform,\n",
    "                            target_transform=target_transform)\n",
    "train_size = int(0.75 * len(train_val_set))\n",
    "val_size = len(train_val_set) - train_size\n",
    "train_set, val_set = random_split(train_val_set, [train_size, val_size])"
   ],
   "metadata": {
    "id": "RSMk4Dwjb9Em",
    "pycharm": {
     "name": "#%%\n"
    }
   },
   "execution_count": 5,
   "outputs": []
  },
  {
   "cell_type": "code",
   "source": [
    "# Create the dataloaders to load batches of data.\n",
    "train_dataloader = DataLoader(train_set, batch_size=256, shuffle=True, num_workers=2, pin_memory=True)\n",
    "val_dataloader = DataLoader(val_set, batch_size=256, shuffle=False, num_workers=2, pin_memory=True)"
   ],
   "metadata": {
    "id": "q7AoGHiyb_pI",
    "pycharm": {
     "name": "#%%\n"
    }
   },
   "execution_count": 6,
   "outputs": []
  },
  {
   "cell_type": "code",
   "source": [
    "# Define the model.\n",
    "# AlexNet architecture but with 1 output instead of 1000.\n",
    "# See `ImageNet Classification with Deep Convolutional Neural Networks\n",
    "#   <https://papers.nips.cc/paper/2012/hash/c399862d3b9d6b76c8436e924a68c45b-Abstract.html>`\n",
    "model = Sequential(\n",
    "    Conv2d(3, 64, kernel_size=11, stride=4, padding=2),\n",
    "    ReLU(inplace=True),\n",
    "    MaxPool2d(kernel_size=3, stride=2),\n",
    "    Conv2d(64, 192, kernel_size=5, padding=2),\n",
    "    ReLU(inplace=True),\n",
    "    MaxPool2d(kernel_size=3, stride=2),\n",
    "    Conv2d(192, 384, kernel_size=3, padding=1),\n",
    "    ReLU(inplace=True),\n",
    "    Conv2d(384, 256, kernel_size=3, padding=1),\n",
    "    ReLU(inplace=True),\n",
    "    Conv2d(256, 256, kernel_size=3, padding=1),\n",
    "    ReLU(inplace=True),\n",
    "    MaxPool2d(kernel_size=3, stride=2),\n",
    "    Flatten(),\n",
    "    Linear(256 * 6 * 6, 4096),\n",
    "    ReLU(inplace=True),\n",
    "    Linear(4096, 4096),\n",
    "    ReLU(inplace=True),\n",
    "    Linear(4096, 1)\n",
    ")"
   ],
   "metadata": {
    "id": "RXA5kIr8cCfN",
    "pycharm": {
     "name": "#%%\n"
    }
   },
   "execution_count": 7,
   "outputs": []
  },
  {
   "cell_type": "code",
   "source": [
    "# As we only have 2 classes, we use the Binary Cross Entropy loss and we don't\n",
    "# apply the sigmoid function to the output of the model as it is already included\n",
    "# in the loss function.\n",
    "loss = torch.nn.BCEWithLogitsLoss()"
   ],
   "metadata": {
    "id": "Sp4rvs-YcFni",
    "pycharm": {
     "name": "#%%\n"
    }
   },
   "execution_count": 8,
   "outputs": []
  },
  {
   "cell_type": "code",
   "source": [
    "# We use the Adam optimizer that uses a first and second order momentum from\n",
    "# the recent batches to make the optimization faster.\n",
    "optimizer = torch.optim.Adam(model.parameters(), lr=1e-4)"
   ],
   "metadata": {
    "id": "Iff3Fk7GcHmT",
    "pycharm": {
     "name": "#%%\n"
    }
   },
   "execution_count": 9,
   "outputs": []
  },
  {
   "cell_type": "code",
   "source": [
    "# Train the model.\n",
    "best_model, best_loss, train_losses, val_losses = fit(model, loss, optimizer,\n",
    "                                                        train_dataloader, val_dataloader,\n",
    "                                                        num_epochs=100, patience=10,\n",
    "                                                        verbose=True, device=device)"
   ],
   "metadata": {
    "colab": {
     "base_uri": "https://localhost:8080/"
    },
    "id": "topUDpFUcJei",
    "outputId": "12e7f31e-00d9-42e7-f2d1-e6edbc134ff9",
    "pycharm": {
     "name": "#%%\n"
    }
   },
   "execution_count": 10,
   "outputs": [
    {
     "output_type": "stream",
     "name": "stdout",
     "text": [
      "Epoch 1: Train: : 100%|██████████| 74/74 [01:49<00:00,  1.48s/it, loss=0.564]\n",
      "Epoch 1: Val: : 100%|██████████| 25/25 [00:30<00:00,  1.20s/it, loss=0.614]\n",
      "Epoch 1/100: Train Loss: 0.6567 Val Loss: 0.6073\n",
      "Epoch 2: Train: : 100%|██████████| 74/74 [01:30<00:00,  1.22s/it, loss=0.495]\n",
      "Epoch 2: Val: : 100%|██████████| 25/25 [00:31<00:00,  1.27s/it, loss=0.439]\n",
      "Epoch 2/100: Train Loss: 0.5575 Val Loss: 0.4932\n",
      "Epoch 3: Train: : 100%|██████████| 74/74 [01:30<00:00,  1.23s/it, loss=0.577]\n",
      "Epoch 3: Val: : 100%|██████████| 25/25 [00:29<00:00,  1.18s/it, loss=0.381]\n",
      "Epoch 3/100: Train Loss: 0.4690 Val Loss: 0.4688\n",
      "Epoch 4: Train: : 100%|██████████| 74/74 [01:30<00:00,  1.22s/it, loss=0.431]\n",
      "Epoch 4: Val: : 100%|██████████| 25/25 [00:29<00:00,  1.19s/it, loss=0.379]\n",
      "Epoch 4/100: Train Loss: 0.4070 Val Loss: 0.4819\n",
      "Epoch 5: Train: : 100%|██████████| 74/74 [01:29<00:00,  1.21s/it, loss=0.461]\n",
      "Epoch 5: Val: : 100%|██████████| 25/25 [00:29<00:00,  1.19s/it, loss=0.482]\n",
      "Epoch 5/100: Train Loss: 0.3596 Val Loss: 0.4133\n",
      "Epoch 6: Train: : 100%|██████████| 74/74 [01:31<00:00,  1.23s/it, loss=0.279]\n",
      "Epoch 6: Val: : 100%|██████████| 25/25 [00:28<00:00,  1.16s/it, loss=0.325]\n",
      "Epoch 6/100: Train Loss: 0.3187 Val Loss: 0.3504\n",
      "Epoch 7: Train: : 100%|██████████| 74/74 [01:31<00:00,  1.24s/it, loss=0.285]\n",
      "Epoch 7: Val: : 100%|██████████| 25/25 [00:29<00:00,  1.20s/it, loss=0.27]\n",
      "Epoch 7/100: Train Loss: 0.2800 Val Loss: 0.3453\n",
      "Epoch 8: Train: : 100%|██████████| 74/74 [01:29<00:00,  1.21s/it, loss=0.126]\n",
      "Epoch 8: Val: : 100%|██████████| 25/25 [00:29<00:00,  1.17s/it, loss=0.396]\n",
      "Epoch 8/100: Train Loss: 0.2331 Val Loss: 0.3695\n",
      "Epoch 9: Train: : 100%|██████████| 74/74 [01:28<00:00,  1.20s/it, loss=0.104]\n",
      "Epoch 9: Val: : 100%|██████████| 25/25 [00:28<00:00,  1.15s/it, loss=0.424]\n",
      "Epoch 9/100: Train Loss: 0.1919 Val Loss: 0.3252\n",
      "Epoch 10: Train: : 100%|██████████| 74/74 [01:30<00:00,  1.22s/it, loss=0.154]\n",
      "Epoch 10: Val: : 100%|██████████| 25/25 [00:30<00:00,  1.20s/it, loss=0.306]\n",
      "Epoch 10/100: Train Loss: 0.1710 Val Loss: 0.3301\n",
      "Epoch 11: Train: : 100%|██████████| 74/74 [01:30<00:00,  1.22s/it, loss=0.118]\n",
      "Epoch 11: Val: : 100%|██████████| 25/25 [00:29<00:00,  1.17s/it, loss=0.425]\n",
      "Epoch 11/100: Train Loss: 0.1270 Val Loss: 0.3222\n",
      "Epoch 12: Train: : 100%|██████████| 74/74 [01:29<00:00,  1.21s/it, loss=0.102]\n",
      "Epoch 12: Val: : 100%|██████████| 25/25 [00:29<00:00,  1.16s/it, loss=0.381]\n",
      "Epoch 12/100: Train Loss: 0.0912 Val Loss: 0.3750\n",
      "Epoch 13: Train: : 100%|██████████| 74/74 [01:29<00:00,  1.21s/it, loss=0.0595]\n",
      "Epoch 13: Val: : 100%|██████████| 25/25 [00:29<00:00,  1.18s/it, loss=0.399]\n",
      "Epoch 13/100: Train Loss: 0.0960 Val Loss: 0.3759\n",
      "Epoch 14: Train: : 100%|██████████| 74/74 [01:30<00:00,  1.23s/it, loss=0.0268]\n",
      "Epoch 14: Val: : 100%|██████████| 25/25 [00:29<00:00,  1.19s/it, loss=0.523]\n",
      "Epoch 14/100: Train Loss: 0.0446 Val Loss: 0.3852\n",
      "Epoch 15: Train: : 100%|██████████| 74/74 [01:29<00:00,  1.21s/it, loss=0.011]\n",
      "Epoch 15: Val: : 100%|██████████| 25/25 [00:29<00:00,  1.19s/it, loss=0.583]\n",
      "Epoch 15/100: Train Loss: 0.0375 Val Loss: 0.4465\n",
      "Epoch 16: Train: : 100%|██████████| 74/74 [01:29<00:00,  1.21s/it, loss=0.0381]\n",
      "Epoch 16: Val: : 100%|██████████| 25/25 [00:29<00:00,  1.19s/it, loss=0.692]\n",
      "Epoch 16/100: Train Loss: 0.0499 Val Loss: 0.4654\n",
      "Epoch 17: Train: : 100%|██████████| 74/74 [01:29<00:00,  1.21s/it, loss=0.00783]\n",
      "Epoch 17: Val: : 100%|██████████| 25/25 [00:29<00:00,  1.16s/it, loss=0.689]\n",
      "Epoch 17/100: Train Loss: 0.0210 Val Loss: 0.5196\n",
      "Epoch 18: Train: : 100%|██████████| 74/74 [01:28<00:00,  1.19s/it, loss=0.0299]\n",
      "Epoch 18: Val: : 100%|██████████| 25/25 [00:29<00:00,  1.18s/it, loss=0.672]\n",
      "Epoch 18/100: Train Loss: 0.0126 Val Loss: 0.5099\n",
      "Epoch 19: Train: : 100%|██████████| 74/74 [01:29<00:00,  1.21s/it, loss=0.013]\n",
      "Epoch 19: Val: : 100%|██████████| 25/25 [00:29<00:00,  1.19s/it, loss=0.675]\n",
      "Epoch 19/100: Train Loss: 0.0321 Val Loss: 0.4838\n",
      "Epoch 20: Train: : 100%|██████████| 74/74 [01:30<00:00,  1.23s/it, loss=0.0098]\n",
      "Epoch 20: Val: : 100%|██████████| 25/25 [00:29<00:00,  1.17s/it, loss=0.695]\n",
      "Epoch 20/100: Train Loss: 0.0179 Val Loss: 0.5233\n",
      "Epoch 21: Train: : 100%|██████████| 74/74 [01:29<00:00,  1.20s/it, loss=0.00776]\n",
      "Epoch 21: Val: : 100%|██████████| 25/25 [00:29<00:00,  1.19s/it, loss=0.729]\n",
      "Epoch 21/100: Train Loss: 0.0113 Val Loss: 0.5699\n"
     ]
    }
   ]
  },
  {
   "cell_type": "code",
   "source": [
    "# Create the test set and dataloader.\n",
    "test_set = ImageFolder(root='data/test', transform=transform, target_transform=target_transform)\n",
    "test_dataloader = DataLoader(test_set, batch_size=256, shuffle=False, num_workers=2, pin_memory=True)"
   ],
   "metadata": {
    "id": "MDy9axAkcLN4",
    "pycharm": {
     "name": "#%%\n"
    }
   },
   "execution_count": 11,
   "outputs": []
  },
  {
   "cell_type": "code",
   "source": [
    "# Compute the accuracy on the test set.\n",
    "print(f'Accuracy: {compute_accuracy(best_model, test_dataloader, device=device) * 100:.2f}%')"
   ],
   "metadata": {
    "colab": {
     "base_uri": "https://localhost:8080/"
    },
    "id": "wZmT16-qcM0-",
    "outputId": "6287712e-9f53-481e-9046-3e0d9b8ac237",
    "pycharm": {
     "name": "#%%\n"
    }
   },
   "execution_count": 12,
   "outputs": [
    {
     "output_type": "stream",
     "name": "stdout",
     "text": [
      "Accuracy: 88.00%\n"
     ]
    }
   ]
  },
  {
   "cell_type": "code",
   "source": [
    "# Plot the training and validation losses.\n",
    "plt.plot(train_losses, label='Training loss')\n",
    "plt.plot(val_losses, label='Validation loss')\n",
    "plt.ylabel('Loss')\n",
    "plt.xlabel('Epoche')\n",
    "plt.legend()\n",
    "plt.savefig('losses.png')\n",
    "plt.show()"
   ],
   "metadata": {
    "colab": {
     "base_uri": "https://localhost:8080/",
     "height": 279
    },
    "id": "8Hc8J--ycOf-",
    "outputId": "72002a77-c31a-4293-c388-7252cef49c21",
    "pycharm": {
     "name": "#%%\n"
    }
   },
   "execution_count": 13,
   "outputs": [
    {
     "output_type": "display_data",
     "data": {
      "text/plain": [
       "<Figure size 432x288 with 1 Axes>"
      ],
      "image/png": "[encoded data removed]"
     },
     "metadata": {
      "needs_background": "light"
     }
    }
   ]
  },
  {
   "cell_type": "code",
   "source": [
    "# Save the model.\n",
    "torch.save(best_model.to('cpu').state_dict(), 'model.pt')"
   ],
   "metadata": {
    "id": "WsoaI1k4cRYE",
    "pycharm": {
     "name": "#%%\n"
    }
   },
   "execution_count": 14,
   "outputs": []
  }
 ]
}