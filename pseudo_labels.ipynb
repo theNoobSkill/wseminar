{
 "cells": [
  {
   "cell_type": "code",
   "execution_count": 1,
   "metadata": {
    "collapsed": true,
    "pycharm": {
     "name": "#%%\n"
    }
   },
   "outputs": [],
   "source": [
    "import os\n",
    "from tqdm import tqdm\n",
    "from PIL import Image\n",
    "\n",
    "import torch\n",
    "from torch.nn import Conv2d, MaxPool2d, ReLU, Linear\n",
    "from torch.utils.data import DataLoader, random_split\n",
    "\n",
    "from torchvision.models import regnet_y_32gf, RegNet_Y_32GF_Weights\n",
    "from torchvision.datasets import ImageFolder, ImageNet"
   ]
  },
  {
   "cell_type": "code",
   "execution_count": 2,
   "outputs": [],
   "source": [
    "device = torch.device('cuda')"
   ],
   "metadata": {
    "collapsed": false,
    "pycharm": {
     "name": "#%%\n"
    }
   }
  },
  {
   "cell_type": "code",
   "execution_count": 3,
   "outputs": [],
   "source": [
    "classes = ImageNet(root='~/PycharmProjects/pbnn/data/torch/ImageNet').classes\n",
    "dog_classes = [c for c in classes if any('dog' in n for n in c)][:-1]\n",
    "cat_classes = [\n",
    "    ('tabby', 'tabby cat'),\n",
    "    ('tiger cat',),\n",
    "    ('Persian cat',),\n",
    "    ('Siamese cat', 'Siamese'),\n",
    "    ('Egyptian cat',),\n",
    "    ('cougar',\n",
    "     'puma',\n",
    "     'catamount',\n",
    "     'mountain lion',\n",
    "     'painter',\n",
    "     'panther',\n",
    "     'Felis concolor'),\n",
    "    ('lynx', 'catamount'),\n",
    "    ('Madagascar cat', 'ring-tailed lemur', 'Lemur catta'),\n",
    "]\n",
    "dog_indices = [classes.index(c) for c in dog_classes]\n",
    "cat_indices = [classes.index(c) for c in cat_classes]"
   ],
   "metadata": {
    "collapsed": false,
    "pycharm": {
     "name": "#%%\n"
    }
   }
  },
  {
   "cell_type": "code",
   "execution_count": 4,
   "outputs": [],
   "source": [
    "model = regnet_y_32gf(weights=RegNet_Y_32GF_Weights.IMAGENET1K_SWAG_E2E_V1).eval().to(device)"
   ],
   "metadata": {
    "collapsed": false,
    "pycharm": {
     "name": "#%%\n"
    }
   }
  },
  {
   "cell_type": "code",
   "execution_count": 5,
   "outputs": [],
   "source": [
    "dataset = ImageFolder(root='train', transform=RegNet_Y_32GF_Weights.IMAGENET1K_SWAG_E2E_V1.transforms())\n",
    "dataloader = DataLoader(dataset, batch_size=4, shuffle=False, num_workers=8, pin_memory=True)\n",
    "accuracy = 0\n",
    "i = 0\n",
    "td = tqdm(dataloader)\n",
    "for x, y in td:\n",
    "    i += 1\n",
    "    x, y = x.to(device), y.to(device)\n",
    "    logits = model(x)\n",
    "    y_pred = logits[:, dog_indices].max(dim=1).values > logits[:, cat_indices].max(dim=1).values\n",
    "    accuracy += torch.sum(y_pred == y).item()\n",
    "    td.set_description(f'Accuracy: {accuracy / (i * x.shape[0])}')\n",
    "accuracy /= len(dataloader.dataset)"
   ],
   "metadata": {
    "collapsed": false,
    "pycharm": {
     "name": "#%%\n"
    }
   }
  },
  {
   "cell_type": "code",
   "execution_count": 8,
   "outputs": [
    {
     "name": "stderr",
     "output_type": "stream",
     "text": [
      "Dogs: 6192, Cats: 6308: 100%|██████████| 9967/9967 [06:41<00:00, 24.83it/s]\n"
     ]
    }
   ],
   "source": [
    "path = 'test'\n",
    "transform = RegNet_Y_32GF_Weights.IMAGENET1K_SWAG_E2E_V1.transforms()\n",
    "os.makedirs('test/dog', exist_ok=True)\n",
    "os.makedirs('test/cat', exist_ok=True)\n",
    "dogs = 1276\n",
    "cats = 1259\n",
    "files = tqdm(os.listdir(path))\n",
    "for img_file in files:\n",
    "    if img_file.endswith('jpg'):\n",
    "        img = Image.open(os.path.join(path, img_file))\n",
    "        img = transform(img)\n",
    "        img = img.unsqueeze(0)\n",
    "        img = img.to(device)\n",
    "        logits = model(img)\n",
    "        y_pred = logits[:, dog_indices].max(dim=1).values > logits[:, cat_indices].max(dim=1).values\n",
    "        if y_pred:\n",
    "            os.rename(os.path.join(path, img_file), os.path.join(path, 'dog', img_file))\n",
    "            dogs += 1\n",
    "        else:\n",
    "            os.rename(os.path.join(path, img_file), os.path.join(path, 'cat', img_file))\n",
    "            cats += 1\n",
    "        files.set_description(f'Dogs: {dogs}, Cats: {cats}')"
   ],
   "metadata": {
    "collapsed": false,
    "pycharm": {
     "name": "#%%\n"
    }
   }
  }
 ],
 "metadata": {
  "kernelspec": {
   "display_name": "Python 3",
   "language": "python",
   "name": "python3"
  },
  "language_info": {
   "codemirror_mode": {
    "name": "ipython",
    "version": 2
   },
   "file_extension": ".py",
   "mimetype": "text/x-python",
   "name": "python",
   "nbconvert_exporter": "python",
   "pygments_lexer": "ipython2",
   "version": "2.7.6"
  }
 },
 "nbformat": 4,
 "nbformat_minor": 0
}